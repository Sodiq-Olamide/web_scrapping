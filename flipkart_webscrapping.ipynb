{
 "cells": [
  {
   "cell_type": "code",
   "execution_count": 14,
   "id": "52e5a83c-7fc4-4e86-b4dd-46df255e9c42",
   "metadata": {},
   "outputs": [],
   "source": [
    "import requests\n",
    "from bs4 import BeautifulSoup as bs\n",
    "from urllib.request import urlopen\n",
    "import logging"
   ]
  },
  {
   "cell_type": "code",
   "execution_count": 15,
   "id": "086a3d61-eb30-495c-9bf4-2614938a84c6",
   "metadata": {},
   "outputs": [],
   "source": [
    "# Web scraping from flipkart website\n",
    "flipkart_url = \"https://www.flipkart.com/search?q=\" + \"tv\""
   ]
  },
  {
   "cell_type": "code",
   "execution_count": 16,
   "id": "43e0cb4a-929b-4bbe-b3fb-fa1b0e8ea814",
   "metadata": {},
   "outputs": [
    {
     "data": {
      "text/plain": [
       "'https://www.flipkart.com/search?q=tv'"
      ]
     },
     "execution_count": 16,
     "metadata": {},
     "output_type": "execute_result"
    }
   ],
   "source": [
    "flipkart_url"
   ]
  },
  {
   "cell_type": "code",
   "execution_count": 17,
   "id": "93098746-915a-4903-a9ff-e9030a1c8e5d",
   "metadata": {},
   "outputs": [
    {
     "data": {
      "text/plain": [
       "<http.client.HTTPResponse at 0x7f6019382950>"
      ]
     },
     "execution_count": 17,
     "metadata": {},
     "output_type": "execute_result"
    }
   ],
   "source": [
    "urlopen(flipkart_url) #clicks and open the webpage"
   ]
  },
  {
   "cell_type": "code",
   "execution_count": 18,
   "id": "7f8403c5-ecdc-4162-bbc1-c73c679f3edc",
   "metadata": {},
   "outputs": [],
   "source": [
    "urlclient = urlopen(flipkart_url)"
   ]
  },
  {
   "cell_type": "code",
   "execution_count": 19,
   "id": "7ef1b89c-3cb4-4448-a899-7c547638a7af",
   "metadata": {},
   "outputs": [],
   "source": [
    "#urlclient.read() # read the entire webpage\n",
    "\n",
    "#then save in a variable\n",
    "flipkart_page = urlclient.read()"
   ]
  },
  {
   "cell_type": "code",
   "execution_count": 20,
   "id": "0c5250e9-e60e-484d-9549-c500df5bfd14",
   "metadata": {},
   "outputs": [],
   "source": [
    "#Due tothe Unreadbilty of the above webpage, we want to clean or beautify it a little bit\n",
    "\n",
    "flipkart_html = bs(flipkart_page, \"html.parser\")"
   ]
  },
  {
   "cell_type": "code",
   "execution_count": 22,
   "id": "9d33ec8f-950a-4140-b182-156d60c04015",
   "metadata": {},
   "outputs": [],
   "source": [
    "bigbox = flipkart_html.find_all(\"div\", {\"class\":\"_1AtVbE col-12-12\"})"
   ]
  },
  {
   "cell_type": "code",
   "execution_count": 23,
   "id": "cd628ea8-196b-432a-b627-1c8b5bc07284",
   "metadata": {},
   "outputs": [
    {
     "data": {
      "text/plain": [
       "30"
      ]
     },
     "execution_count": 23,
     "metadata": {},
     "output_type": "execute_result"
    }
   ],
   "source": [
    "len(bigbox)"
   ]
  },
  {
   "cell_type": "code",
   "execution_count": 24,
   "id": "761334e8-3edc-4a1f-b9ad-ec483118e3c6",
   "metadata": {},
   "outputs": [],
   "source": [
    "del bigbox[0:3]"
   ]
  },
  {
   "cell_type": "code",
   "execution_count": 35,
   "id": "f4a2f70b-3cf3-428f-a0a5-cce026464b6f",
   "metadata": {},
   "outputs": [],
   "source": [
    "product_link = \"https://www.flipkart.com\" + bigbox[0].div.div.div.a['href']"
   ]
  },
  {
   "cell_type": "code",
   "execution_count": 34,
   "id": "84c89a4c-b638-44dc-bcd3-60601859797b",
   "metadata": {},
   "outputs": [
    {
     "name": "stdout",
     "output_type": "stream",
     "text": [
      "https://www.flipkart.com/mi-5a-80-cm-32-inch-hd-ready-led-smart-android-tv-dolby-audio-2022-model/p/itm98501ffa297ba?pid=TVSGD5CS2SDUUZGN&lid=LSTTVSGD5CS2SDUUZGNWGZUUA&marketplace=FLIPKART&q=tv&store=ckf%2Fczl&srno=s_1_2&otracker=search&fm=organic&iid=8edd8310-ee70-403e-a7eb-b48ec03212f6.TVSGD5CS2SDUUZGN.SEARCH&ppt=None&ppn=None&ssid=pc513ss4cg0000001678176963474&qH=c9a1fdac6e082dd8\n",
      "https://www.flipkart.com/infinix-y1-80-cm-32-inch-hd-ready-led-smart-linux-tv-wall-mount/p/itme5476ca89d1b0?pid=TVSGFGF34GMTB9KF&lid=LSTTVSGFGF34GMTB9KFF9JZPY&marketplace=FLIPKART&q=tv&store=ckf%2Fczl&srno=s_1_3&otracker=search&fm=organic&iid=8edd8310-ee70-403e-a7eb-b48ec03212f6.TVSGFGF34GMTB9KF.SEARCH&ppt=None&ppn=None&ssid=pc513ss4cg0000001678176963474&qH=c9a1fdac6e082dd8\n",
      "https://www.flipkart.com/samsung-80-cm-32-inch-hd-ready-led-smart-tizen-tv-2022-model/p/itm3c07ddc2dd25d?pid=TVSGHY2UZA9YHWQN&lid=LSTTVSGHY2UZA9YHWQNNQENTU&marketplace=FLIPKART&q=tv&store=ckf%2Fczl&spotlightTagId=BestsellerId_ckf%2Fczl&srno=s_1_4&otracker=search&fm=organic&iid=8edd8310-ee70-403e-a7eb-b48ec03212f6.TVSGHY2UZA9YHWQN.SEARCH&ppt=None&ppn=None&ssid=pc513ss4cg0000001678176963474&qH=c9a1fdac6e082dd8\n",
      "https://www.flipkart.com/mi-5a-100-cm-40-inch-full-hd-led-smart-android-tv-dolby-audio-2022-model/p/itm6be60be56f52d?pid=TVSGD5CS4N7NWFZD&lid=LSTTVSGD5CS4N7NWFZDDJBZRI&marketplace=FLIPKART&q=tv&store=ckf%2Fczl&srno=s_1_5&otracker=search&fm=organic&iid=8edd8310-ee70-403e-a7eb-b48ec03212f6.TVSGD5CS4N7NWFZD.SEARCH&ppt=None&ppn=None&ssid=pc513ss4cg0000001678176963474&qH=c9a1fdac6e082dd8\n",
      "https://www.flipkart.com/oneplus-y1s-108-cm-43-inch-full-hd-led-smart-android-tv-11-bezel-less-frame/p/itm178846d2e1567?pid=TVSGAXEVSNT3HBQA&lid=LSTTVSGAXEVSNT3HBQA27QSBA&marketplace=FLIPKART&q=tv&store=ckf%2Fczl&srno=s_1_6&otracker=search&fm=organic&iid=8edd8310-ee70-403e-a7eb-b48ec03212f6.TVSGAXEVSNT3HBQA.SEARCH&ppt=None&ppn=None&ssid=pc513ss4cg0000001678176963474&qH=c9a1fdac6e082dd8\n",
      "https://www.flipkart.com/oneplus-y1-80-cm-32-inch-hd-ready-led-smart-android-tv-dolby-audio/p/itme650a6bb8cee3?pid=TVSFVWD2ENXYGEJY&lid=LSTTVSFVWD2ENXYGEJYBNWSST&marketplace=FLIPKART&q=tv&store=ckf%2Fczl&srno=s_1_7&otracker=search&fm=organic&iid=8edd8310-ee70-403e-a7eb-b48ec03212f6.TVSFVWD2ENXYGEJY.SEARCH&ppt=None&ppn=None&ssid=pc513ss4cg0000001678176963474&qH=c9a1fdac6e082dd8\n",
      "https://www.flipkart.com/thomson-alpha-80-cm-32-inch-hd-ready-led-smart-linux-tv-30-w-sound-output-bezel-less-design/p/itm0e90bcdadb9c9?pid=TVSGEMQV7R4CMTGA&lid=LSTTVSGEMQV7R4CMTGAN8OZ8J&marketplace=FLIPKART&q=tv&store=ckf%2Fczl&srno=s_1_8&otracker=search&fm=organic&iid=8edd8310-ee70-403e-a7eb-b48ec03212f6.TVSGEMQV7R4CMTGA.SEARCH&ppt=None&ppn=None&ssid=pc513ss4cg0000001678176963474&qH=c9a1fdac6e082dd8\n",
      "https://www.flipkart.com/acer-series-80-cm-32-inch-hd-ready-led-smart-android-tv-11-1-5gb-ram-2022-model/p/itm5767c4e3d5359?pid=TVSGEYD98YRZGSRU&lid=LSTTVSGEYD98YRZGSRUHADIS4&marketplace=FLIPKART&q=tv&store=ckf%2Fczl&srno=s_1_9&otracker=search&fm=organic&iid=8edd8310-ee70-403e-a7eb-b48ec03212f6.TVSGEYD98YRZGSRU.SEARCH&ppt=None&ppn=None&ssid=pc513ss4cg0000001678176963474&qH=c9a1fdac6e082dd8\n",
      "https://www.flipkart.com/samsung-crystal-4k-neo-series-108-cm-43-inch-ultra-hd-4k-led-smart-tizen-tv-black-2022-model/p/itma076c4dd16aa4?pid=TVSGEAGP9GXWCHCX&lid=LSTTVSGEAGP9GXWCHCXSVNDV5&marketplace=FLIPKART&q=tv&store=ckf%2Fczl&srno=s_1_10&otracker=search&fm=organic&iid=8edd8310-ee70-403e-a7eb-b48ec03212f6.TVSGEAGP9GXWCHCX.SEARCH&ppt=None&ppn=None&ssid=pc513ss4cg0000001678176963474&qH=c9a1fdac6e082dd8\n",
      "https://www.flipkart.com/lg-80-cm-32-inch-hd-ready-led-smart-webos-tv/p/itm6207e6d122567?pid=TVSFTW4CSRW8PGDQ&lid=LSTTVSFTW4CSRW8PGDQSZQIO6&marketplace=FLIPKART&q=tv&store=ckf%2Fczl&srno=s_1_11&otracker=search&fm=organic&iid=8edd8310-ee70-403e-a7eb-b48ec03212f6.TVSFTW4CSRW8PGDQ.SEARCH&ppt=None&ppn=None&ssid=pc513ss4cg0000001678176963474&qH=c9a1fdac6e082dd8\n",
      "https://www.flipkart.com/oneplus-y1s-80-cm-32-inch-hd-ready-led-smart-android-tv-11-bezel-less-frame/p/itm0a39edd7df236?pid=TVSGAXEVXNG9YBUM&lid=LSTTVSGAXEVXNG9YBUMLGWYAS&marketplace=FLIPKART&q=tv&store=ckf%2Fczl&srno=s_1_12&otracker=search&fm=organic&iid=8edd8310-ee70-403e-a7eb-b48ec03212f6.TVSGAXEVXNG9YBUM.SEARCH&ppt=None&ppn=None&ssid=pc513ss4cg0000001678176963474&qH=c9a1fdac6e082dd8\n",
      "https://www.flipkart.com/oneplus-y1s-pro-138-cm-55-inch-ultra-hd-4k-led-smart-android-tv/p/itm5db9783099cbb?pid=TVSGJUFY5QMMWSU7&lid=LSTTVSGJUFY5QMMWSU7V52T1B&marketplace=FLIPKART&q=tv&store=ckf%2Fczl&srno=s_1_13&otracker=search&fm=organic&iid=8edd8310-ee70-403e-a7eb-b48ec03212f6.TVSGJUFY5QMMWSU7.SEARCH&ppt=None&ppn=None&ssid=pc513ss4cg0000001678176963474&qH=c9a1fdac6e082dd8\n",
      "https://www.flipkart.com/oneplus-y1-100-cm-40-inch-full-hd-led-smart-android-tv-dolby-audio/p/itmdcbd9784403b2?pid=TVSG25MMGB8NKFD8&lid=LSTTVSG25MMGB8NKFD8MWAMJF&marketplace=FLIPKART&q=tv&store=ckf%2Fczl&srno=s_1_14&otracker=search&fm=organic&iid=8edd8310-ee70-403e-a7eb-b48ec03212f6.TVSG25MMGB8NKFD8.SEARCH&ppt=None&ppn=None&ssid=pc513ss4cg0000001678176963474&qH=c9a1fdac6e082dd8\n",
      "https://www.flipkart.com/realme-80-cm-32-inch-hd-ready-led-smart-android-tv/p/itm56d1cf16da75b?pid=TVSFRTJQTZVKTF6Y&lid=LSTTVSFRTJQTZVKTF6YHMHXRW&marketplace=FLIPKART&q=tv&store=ckf%2Fczl&srno=s_1_15&otracker=search&fm=organic&iid=8edd8310-ee70-403e-a7eb-b48ec03212f6.TVSFRTJQTZVKTF6Y.SEARCH&ppt=None&ppn=None&ssid=pc513ss4cg0000001678176963474&qH=c9a1fdac6e082dd8\n",
      "https://www.flipkart.com/mi-x-series-108-cm-43-inch-ultra-hd-4k-led-smart-android-tv-dolby-vision-30w-audio-2022-model/p/itm39b39b602f81a?pid=TVSGHEQVGZVTSEBT&lid=LSTTVSGHEQVGZVTSEBT6BSNVA&marketplace=FLIPKART&q=tv&store=ckf%2Fczl&srno=s_1_16&otracker=search&fm=organic&iid=8edd8310-ee70-403e-a7eb-b48ec03212f6.TVSGHEQVGZVTSEBT.SEARCH&ppt=None&ppn=None&ssid=pc513ss4cg0000001678176963474&qH=c9a1fdac6e082dd8\n",
      "https://www.flipkart.com/samsung-crystal-4k-108-cm-43-inch-ultra-hd-4k-led-smart-tizen-tv/p/itm7dcfb3cc69fbb?pid=TVSG2CG7F2Y9YUJ3&lid=LSTTVSG2CG7F2Y9YUJ39FS3ZI&marketplace=FLIPKART&q=tv&store=ckf%2Fczl&srno=s_1_17&otracker=search&fm=organic&iid=8edd8310-ee70-403e-a7eb-b48ec03212f6.TVSG2CG7F2Y9YUJ3.SEARCH&ppt=None&ppn=None&ssid=pc513ss4cg0000001678176963474&qH=c9a1fdac6e082dd8\n",
      "https://www.flipkart.com/realme-neo-80-cm-32-inch-hd-ready-led-smart-linux-tv/p/itm3493defce7f54?pid=TVSG6EFEFQTYNBMC&lid=LSTTVSG6EFEFQTYNBMCTRC86C&marketplace=FLIPKART&q=tv&store=ckf%2Fczl&srno=s_1_18&otracker=search&fm=organic&iid=8edd8310-ee70-403e-a7eb-b48ec03212f6.TVSG6EFEFQTYNBMC.SEARCH&ppt=None&ppn=None&ssid=pc513ss4cg0000001678176963474&qH=c9a1fdac6e082dd8\n",
      "https://www.flipkart.com/beethosol-80-cm-32-inch-hd-ready-led-smart-android-tv/p/itm8d2b1963a203d?pid=TVSGG79MJVM6CEZV&lid=LSTTVSGG79MJVM6CEZV0GKW4Y&marketplace=FLIPKART&q=tv&store=ckf%2Fczl&srno=s_1_19&otracker=search&fm=organic&iid=8edd8310-ee70-403e-a7eb-b48ec03212f6.TVSGG79MJVM6CEZV.SEARCH&ppt=None&ppn=None&ssid=pc513ss4cg0000001678176963474&qH=c9a1fdac6e082dd8\n",
      "https://www.flipkart.com/realme-100-3-cm-40-inch-full-hd-led-smart-android-tv-11-2022-model/p/itmfbee9155488c1?pid=TVSGDC5CN7XP3KNE&lid=LSTTVSGDC5CN7XP3KNEEXCHTD&marketplace=FLIPKART&q=tv&store=ckf%2Fczl&srno=s_1_20&otracker=search&fm=organic&iid=8edd8310-ee70-403e-a7eb-b48ec03212f6.TVSGDC5CN7XP3KNE.SEARCH&ppt=None&ppn=None&ssid=pc513ss4cg0000001678176963474&qH=c9a1fdac6e082dd8\n",
      "https://www.flipkart.com/acer-series-109-cm-43-inch-ultra-hd-4k-led-smart-android-tv-11-30w-dolby-audio-memc-2022-model/p/itmccae6468b147a?pid=TVSGEYD9G6ZCNKF6&lid=LSTTVSGEYD9G6ZCNKF6F65VJO&marketplace=FLIPKART&q=tv&store=ckf%2Fczl&srno=s_1_21&otracker=search&fm=organic&iid=8edd8310-ee70-403e-a7eb-b48ec03212f6.TVSGEYD9G6ZCNKF6.SEARCH&ppt=None&ppn=None&ssid=pc513ss4cg0000001678176963474&qH=c9a1fdac6e082dd8\n",
      "https://www.flipkart.com/iffalcon-tcl-f53-100-cm-40-inch-full-hd-led-smart-android-tv-11/p/itm4af56d3acdfc7?pid=TVSGCYVJGZKRMXZE&lid=LSTTVSGCYVJGZKRMXZE32WAPX&marketplace=FLIPKART&q=tv&store=ckf%2Fczl&srno=s_1_22&otracker=search&fm=organic&iid=8edd8310-ee70-403e-a7eb-b48ec03212f6.TVSGCYVJGZKRMXZE.SEARCH&ppt=None&ppn=None&ssid=pc513ss4cg0000001678176963474&qH=c9a1fdac6e082dd8\n",
      "https://www.flipkart.com/acer-100-cm-40-inch-full-hd-led-smart-android-tv/p/itmd0bd88d59827f?pid=TVSGHNHVWVGGUQHY&lid=LSTTVSGHNHVWVGGUQHYCG8AJV&marketplace=FLIPKART&q=tv&store=ckf%2Fczl&srno=s_1_23&otracker=search&fm=organic&iid=8edd8310-ee70-403e-a7eb-b48ec03212f6.TVSGHNHVWVGGUQHY.SEARCH&ppt=None&ppn=None&ssid=pc513ss4cg0000001678176963474&qH=c9a1fdac6e082dd8\n",
      "https://www.flipkart.com/lg-uq7500-108-cm-43-inch-ultra-hd-4k-led-smart-webos-tv-2022/p/itm39fd5782b27ed?pid=TVSGFGYS5TJRUJNV&lid=LSTTVSGFGYS5TJRUJNVLCTYNB&marketplace=FLIPKART&q=tv&store=ckf%2Fczl&srno=s_1_24&otracker=search&fm=organic&iid=8edd8310-ee70-403e-a7eb-b48ec03212f6.TVSGFGYS5TJRUJNV.SEARCH&ppt=None&ppn=None&ssid=pc513ss4cg0000001678176963474&qH=c9a1fdac6e082dd8\n"
     ]
    },
    {
     "ename": "AttributeError",
     "evalue": "'NoneType' object has no attribute 'a'",
     "output_type": "error",
     "traceback": [
      "\u001b[0;31m---------------------------------------------------------------------------\u001b[0m",
      "\u001b[0;31mAttributeError\u001b[0m                            Traceback (most recent call last)",
      "Cell \u001b[0;32mIn[34], line 2\u001b[0m\n\u001b[1;32m      1\u001b[0m \u001b[38;5;28;01mfor\u001b[39;00m i \u001b[38;5;129;01min\u001b[39;00m bigbox:\n\u001b[0;32m----> 2\u001b[0m     \u001b[38;5;28mprint\u001b[39m(\u001b[38;5;124m\"\u001b[39m\u001b[38;5;124mhttps://www.flipkart.com\u001b[39m\u001b[38;5;124m\"\u001b[39m \u001b[38;5;241m+\u001b[39m \u001b[43mi\u001b[49m\u001b[38;5;241;43m.\u001b[39;49m\u001b[43mdiv\u001b[49m\u001b[38;5;241;43m.\u001b[39;49m\u001b[43mdiv\u001b[49m\u001b[38;5;241;43m.\u001b[39;49m\u001b[43mdiv\u001b[49m\u001b[38;5;241;43m.\u001b[39;49m\u001b[43ma\u001b[49m[\u001b[38;5;124m'\u001b[39m\u001b[38;5;124mhref\u001b[39m\u001b[38;5;124m'\u001b[39m])\n",
      "\u001b[0;31mAttributeError\u001b[0m: 'NoneType' object has no attribute 'a'"
     ]
    }
   ],
   "source": [
    "for i in bigbox:\n",
    "    print(\"https://www.flipkart.com\" + i.div.div.div.a['href'])"
   ]
  },
  {
   "cell_type": "code",
   "execution_count": 36,
   "id": "70c9b43b-e957-4f78-8c10-a955b8c3fc54",
   "metadata": {},
   "outputs": [
    {
     "data": {
      "text/plain": [
       "'https://www.flipkart.com/mi-5a-80-cm-32-inch-hd-ready-led-smart-android-tv-dolby-audio-2022-model/p/itm98501ffa297ba?pid=TVSGD5CS2SDUUZGN&lid=LSTTVSGD5CS2SDUUZGNWGZUUA&marketplace=FLIPKART&q=tv&store=ckf%2Fczl&srno=s_1_2&otracker=search&fm=organic&iid=8edd8310-ee70-403e-a7eb-b48ec03212f6.TVSGD5CS2SDUUZGN.SEARCH&ppt=None&ppn=None&ssid=pc513ss4cg0000001678176963474&qH=c9a1fdac6e082dd8'"
      ]
     },
     "execution_count": 36,
     "metadata": {},
     "output_type": "execute_result"
    }
   ],
   "source": [
    "product_link"
   ]
  },
  {
   "cell_type": "code",
   "execution_count": 39,
   "id": "a0411b20-c47e-42d6-94fc-bb656d52ef47",
   "metadata": {},
   "outputs": [],
   "source": [
    "product_req = requests.get(product_link)"
   ]
  },
  {
   "cell_type": "code",
   "execution_count": 42,
   "id": "e2089207-f670-47cd-8478-ed7833a3e15d",
   "metadata": {},
   "outputs": [],
   "source": [
    "#product_req.text\n",
    "\n",
    "product_html = bs(product_req.text, 'html.parser')"
   ]
  },
  {
   "cell_type": "code",
   "execution_count": 45,
   "id": "a57c3fd1-3684-4ac1-8f96-79830bf0fe45",
   "metadata": {},
   "outputs": [],
   "source": [
    "comment_box = product_html.find_all('div', {\"class\":\"_16PBlm\"})"
   ]
  },
  {
   "cell_type": "code",
   "execution_count": 46,
   "id": "d391a31d-6db4-4198-ba17-776b11f85bcf",
   "metadata": {},
   "outputs": [
    {
     "data": {
      "text/plain": [
       "11"
      ]
     },
     "execution_count": 46,
     "metadata": {},
     "output_type": "execute_result"
    }
   ],
   "source": [
    "len(comment_box)"
   ]
  },
  {
   "cell_type": "code",
   "execution_count": 49,
   "id": "6db0272d-db3e-4513-9886-eb9092f03650",
   "metadata": {},
   "outputs": [
    {
     "data": {
      "text/plain": [
       "'nishant yadav'"
      ]
     },
     "execution_count": 49,
     "metadata": {},
     "output_type": "execute_result"
    }
   ],
   "source": [
    "comment_box[0].div.div.find_all('p', {'class':\"_2sc7ZR _2V5EHH\"})[0].text"
   ]
  },
  {
   "cell_type": "code",
   "execution_count": 50,
   "id": "ba2318dd-aa3b-4467-9a1a-6ec3babbb8dc",
   "metadata": {},
   "outputs": [
    {
     "name": "stdout",
     "output_type": "stream",
     "text": [
      "nishant yadav\n",
      "sai kumar\n",
      "Deepak Rai\n",
      "Flipkart Customer\n",
      "Flipkart Customer\n",
      "SANTHOSH PILLALAMARRI\n",
      "RAJESH HEGDE\n",
      "MANISH THAKURDESAI\n",
      "Shobhit Saxena\n",
      "Ashok kumar\n"
     ]
    },
    {
     "ename": "AttributeError",
     "evalue": "'NoneType' object has no attribute 'div'",
     "output_type": "error",
     "traceback": [
      "\u001b[0;31m---------------------------------------------------------------------------\u001b[0m",
      "\u001b[0;31mAttributeError\u001b[0m                            Traceback (most recent call last)",
      "Cell \u001b[0;32mIn[50], line 2\u001b[0m\n\u001b[1;32m      1\u001b[0m \u001b[38;5;28;01mfor\u001b[39;00m i \u001b[38;5;129;01min\u001b[39;00m comment_box:\n\u001b[0;32m----> 2\u001b[0m     \u001b[38;5;28mprint\u001b[39m(\u001b[43mi\u001b[49m\u001b[38;5;241;43m.\u001b[39;49m\u001b[43mdiv\u001b[49m\u001b[38;5;241;43m.\u001b[39;49m\u001b[43mdiv\u001b[49m\u001b[38;5;241m.\u001b[39mfind_all(\u001b[38;5;124m'\u001b[39m\u001b[38;5;124mp\u001b[39m\u001b[38;5;124m'\u001b[39m, {\u001b[38;5;124m'\u001b[39m\u001b[38;5;124mclass\u001b[39m\u001b[38;5;124m'\u001b[39m:\u001b[38;5;124m\"\u001b[39m\u001b[38;5;124m_2sc7ZR _2V5EHH\u001b[39m\u001b[38;5;124m\"\u001b[39m})[\u001b[38;5;241m0\u001b[39m]\u001b[38;5;241m.\u001b[39mtext)\n",
      "\u001b[0;31mAttributeError\u001b[0m: 'NoneType' object has no attribute 'div'"
     ]
    }
   ],
   "source": [
    "for i in comment_box:\n",
    "    print(i.div.div.find_all('p', {'class':\"_2sc7ZR _2V5EHH\"})[0].text)"
   ]
  },
  {
   "cell_type": "code",
   "execution_count": 52,
   "id": "a8a8358a-f4fb-4125-91cb-9104ca208f8b",
   "metadata": {},
   "outputs": [
    {
     "data": {
      "text/plain": [
       "'5'"
      ]
     },
     "execution_count": 52,
     "metadata": {},
     "output_type": "execute_result"
    }
   ],
   "source": [
    "comment_box[0].div.div.div.div.text"
   ]
  },
  {
   "cell_type": "code",
   "execution_count": 53,
   "id": "c5a913cf-6156-42e0-9ef5-aa227964d065",
   "metadata": {},
   "outputs": [
    {
     "name": "stdout",
     "output_type": "stream",
     "text": [
      "5\n",
      "5\n",
      "4\n",
      "4\n",
      "4\n",
      "5\n",
      "5\n",
      "5\n",
      "5\n",
      "5\n"
     ]
    },
    {
     "ename": "AttributeError",
     "evalue": "'NoneType' object has no attribute 'div'",
     "output_type": "error",
     "traceback": [
      "\u001b[0;31m---------------------------------------------------------------------------\u001b[0m",
      "\u001b[0;31mAttributeError\u001b[0m                            Traceback (most recent call last)",
      "Cell \u001b[0;32mIn[53], line 2\u001b[0m\n\u001b[1;32m      1\u001b[0m \u001b[38;5;28;01mfor\u001b[39;00m i \u001b[38;5;129;01min\u001b[39;00m comment_box:\n\u001b[0;32m----> 2\u001b[0m     \u001b[38;5;28mprint\u001b[39m(\u001b[43mi\u001b[49m\u001b[38;5;241;43m.\u001b[39;49m\u001b[43mdiv\u001b[49m\u001b[38;5;241;43m.\u001b[39;49m\u001b[43mdiv\u001b[49m\u001b[38;5;241m.\u001b[39mdiv\u001b[38;5;241m.\u001b[39mdiv\u001b[38;5;241m.\u001b[39mtext)\n",
      "\u001b[0;31mAttributeError\u001b[0m: 'NoneType' object has no attribute 'div'"
     ]
    }
   ],
   "source": [
    "for i in comment_box:\n",
    "    print(i.div.div.div.div.text)"
   ]
  },
  {
   "cell_type": "code",
   "execution_count": 55,
   "id": "f4ee2327-69dc-4d66-84f8-62d3ef3e5d00",
   "metadata": {},
   "outputs": [
    {
     "data": {
      "text/plain": [
       "'Terrific purchase'"
      ]
     },
     "execution_count": 55,
     "metadata": {},
     "output_type": "execute_result"
    }
   ],
   "source": [
    "comment_box[0].div.div.div.p.text"
   ]
  },
  {
   "cell_type": "code",
   "execution_count": 56,
   "id": "c0ca05be-c668-46be-8320-80e812c5775c",
   "metadata": {},
   "outputs": [
    {
     "name": "stdout",
     "output_type": "stream",
     "text": [
      "Terrific purchase\n",
      "Awesome\n",
      "Very Good\n",
      "Delightful\n",
      "Nice product\n",
      "Terrific\n",
      "Highly recommended\n",
      "Highly recommended\n",
      "Excellent\n",
      "Terrific\n"
     ]
    },
    {
     "ename": "AttributeError",
     "evalue": "'NoneType' object has no attribute 'div'",
     "output_type": "error",
     "traceback": [
      "\u001b[0;31m---------------------------------------------------------------------------\u001b[0m",
      "\u001b[0;31mAttributeError\u001b[0m                            Traceback (most recent call last)",
      "Cell \u001b[0;32mIn[56], line 2\u001b[0m\n\u001b[1;32m      1\u001b[0m \u001b[38;5;28;01mfor\u001b[39;00m i \u001b[38;5;129;01min\u001b[39;00m comment_box:\n\u001b[0;32m----> 2\u001b[0m     \u001b[38;5;28mprint\u001b[39m(\u001b[43mi\u001b[49m\u001b[38;5;241;43m.\u001b[39;49m\u001b[43mdiv\u001b[49m\u001b[38;5;241;43m.\u001b[39;49m\u001b[43mdiv\u001b[49m\u001b[38;5;241m.\u001b[39mdiv\u001b[38;5;241m.\u001b[39mp\u001b[38;5;241m.\u001b[39mtext)\n",
      "\u001b[0;31mAttributeError\u001b[0m: 'NoneType' object has no attribute 'div'"
     ]
    }
   ],
   "source": [
    "for i in comment_box:\n",
    "    print(i.div.div.div.p.text)"
   ]
  },
  {
   "cell_type": "code",
   "execution_count": 70,
   "id": "1facab1c-2417-482f-8ae1-33eb56b3e16b",
   "metadata": {},
   "outputs": [
    {
     "data": {
      "text/plain": [
       "\"This is a detailed review after 7 days. Please read this if you have problem or concern regarding sound/picture/brightness/sd channels/wifi connectivity/miracast. PICTURE: the picture quality is really amazing. Blacks are really deep. Contrast is pretty good too. No complaints there.  BRIGHTNESS: tv is pretty bright, by default dynamic light is on and it will make your screen dull, just turn it off. I've set it to 25. No screen galre problem.SOUND: tv speakers doesn't have much bass, ide...READ MORE\""
      ]
     },
     "execution_count": 70,
     "metadata": {},
     "output_type": "execute_result"
    }
   ],
   "source": [
    "comment_box[0].div.div.find_all(\"div\", {\"class\":\"\"})[0].text"
   ]
  },
  {
   "cell_type": "code",
   "execution_count": 71,
   "id": "6fb20590-08a4-4cb6-9c47-b590824692d6",
   "metadata": {},
   "outputs": [
    {
     "name": "stdout",
     "output_type": "stream",
     "text": [
      "This is a detailed review after 7 days. Please read this if you have problem or concern regarding sound/picture/brightness/sd channels/wifi connectivity/miracast. PICTURE: the picture quality is really amazing. Blacks are really deep. Contrast is pretty good too. No complaints there.  BRIGHTNESS: tv is pretty bright, by default dynamic light is on and it will make your screen dull, just turn it off. I've set it to 25. No screen galre problem.SOUND: tv speakers doesn't have much bass, ide...READ MORE\n",
      "Super and good quality full HD ,Internet also speed connecting ,it is like one smart phone .full happy and it delivered so speedREAD MORE\n",
      "I m posting review after checking all it's functionalities and settings in 40inch version. Below are the summary points :* Display : looks decent. 4k and full HD content looks satisfying. casted content dispaly quality is below par (also depends on the content you are casting).bezels are thin and are made of plastic which is loosely attached to the display panel. viewing angles are good covers around 150°* Connectivity: impressive , connects to WiFi, Bluetooth , Chromecast smoothly. observ...READ MORE\n",
      "This Mi TV is superb and value for money .waiting for 10 days just give feedback untill now there is no issuesPros1.picture quality2.sound 3.smart TV4.wifi connectivity and voice searchcons1.no Netflix and some important apps Installation feedback1.The installation was good the technician explain good but he force me to give feedback for him at that time and he is not even request me, he asked my mobile and wants me to open gmail and he typed the feedback for himself and finally a...READ MORE\n",
      "I love this MI tv good quality with affordable price. it supports 4k video also especially dolby audio is too good suggestions : MI should give the wall hanging stand for free of costREAD MORE\n",
      "MI is just awesome, obviously value for money.connectivity is super and no flaws noticed in TV till now.if anyone is looking for buy a smart TV in reasonable price then just prefer MI 4A. And finally thank you Flipkart 😊READ MORE\n",
      "Good product . Best value for money Android smart tvTimely delivery & proper installation done on schedule date . Thanks to FLIPKART  .READ MORE\n",
      "Really good product. value for money. Smart TV feture are in this price rang wich is great . Picture quality is preeti good , nice view angel. Go for pro model .....READ MORE\n",
      "PRO is better than previous version. It runs on android. Google play store is preinstalled. The remote runs on bluetooth. Great viewing experience as it is true LED TV. HD channels looks awesome, while SD channels does not looks good due to big screen size.Sound is clear and loud enough, good for music as well.Overall its a value for money product.Delivered and installed on stipulated timelines by flipcart.READ MORE\n",
      "it very nice mi tv good condition valuable for money but installation tv  to late jeeves.  pictures quality good .sounds effectively nice. can the the mi tv in flipkart it great delvery it on time  it amazingREAD MORE\n"
     ]
    },
    {
     "ename": "AttributeError",
     "evalue": "'NoneType' object has no attribute 'div'",
     "output_type": "error",
     "traceback": [
      "\u001b[0;31m---------------------------------------------------------------------------\u001b[0m",
      "\u001b[0;31mAttributeError\u001b[0m                            Traceback (most recent call last)",
      "Cell \u001b[0;32mIn[71], line 2\u001b[0m\n\u001b[1;32m      1\u001b[0m \u001b[38;5;28;01mfor\u001b[39;00m i \u001b[38;5;129;01min\u001b[39;00m comment_box:\n\u001b[0;32m----> 2\u001b[0m     \u001b[38;5;28mprint\u001b[39m(\u001b[43mi\u001b[49m\u001b[38;5;241;43m.\u001b[39;49m\u001b[43mdiv\u001b[49m\u001b[38;5;241;43m.\u001b[39;49m\u001b[43mdiv\u001b[49m\u001b[38;5;241m.\u001b[39mfind_all(\u001b[38;5;124m\"\u001b[39m\u001b[38;5;124mdiv\u001b[39m\u001b[38;5;124m\"\u001b[39m, {\u001b[38;5;124m\"\u001b[39m\u001b[38;5;124mclass\u001b[39m\u001b[38;5;124m\"\u001b[39m:\u001b[38;5;124m\"\u001b[39m\u001b[38;5;124m\"\u001b[39m})[\u001b[38;5;241m0\u001b[39m]\u001b[38;5;241m.\u001b[39mtext)\n",
      "\u001b[0;31mAttributeError\u001b[0m: 'NoneType' object has no attribute 'div'"
     ]
    }
   ],
   "source": [
    "for i in comment_box:\n",
    "    print(i.div.div.find_all(\"div\", {\"class\":\"\"})[0].text)"
   ]
  },
  {
   "cell_type": "code",
   "execution_count": null,
   "id": "52dcfee5-d264-4e21-9c7d-001785bad9d1",
   "metadata": {},
   "outputs": [],
   "source": []
  }
 ],
 "metadata": {
  "kernelspec": {
   "display_name": "Python 3 (ipykernel)",
   "language": "python",
   "name": "python3"
  },
  "language_info": {
   "codemirror_mode": {
    "name": "ipython",
    "version": 3
   },
   "file_extension": ".py",
   "mimetype": "text/x-python",
   "name": "python",
   "nbconvert_exporter": "python",
   "pygments_lexer": "ipython3",
   "version": "3.10.8"
  }
 },
 "nbformat": 4,
 "nbformat_minor": 5
}
